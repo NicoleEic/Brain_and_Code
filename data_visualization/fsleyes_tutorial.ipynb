{
 "cells": [
  {
   "cell_type": "markdown",
   "metadata": {},
   "source": [
    "# Introduction\n",
    "Loading files into FSLeyes and adjusting settings manually is cumbersom and error prone. Luckily, which FSLeyes it is possible to script the display of files, which saves time and makes the result figures more reproducible. \n",
    "\n",
    "There are different ways how we can interact with FSLeyes programatically:\n",
    "* We can open a Python shell in the FSLeyes GUI from `View` > `Python shell`\n",
    "* We can open FSLeyes from the command line and run a script at the same time: `fsleyes -r myscript.py`\n",
    "* for an interactive mode, one can also use a Jupyter Notebook `fsleyes --notebookFile my_notebook.ipynb`\n",
    "\n",
    "Before we continue, here two links with the relevant User Guides:\n",
    "* [FSLeyes documentation](https://users.fmrib.ox.ac.uk/~paulmc/fsleyes/userdoc/latest/index.html)\n",
    "* [FSLeyes Python API documentation](https://users.fmrib.ox.ac.uk/~paulmc/fsleyes/apidoc/latest/)\n",
    "\n",
    "Please note that I put together this tutorial based on my own understanding of the software and this might or not be the best way to use it. If in doubt, please refer to these User Guides or contact the FSLeyes developers to get advice. "
   ]
  },
  {
   "cell_type": "markdown",
   "metadata": {},
   "source": [
    "# Installation\n",
    "If you installed FSLeyes as part of FSL (prior to version 6), you have a standalone version. If you want to use it via the interactive mode, however, it is recommended to use it as Python package. From FSL version 6 onwards, this is automatically included (I think...).\n",
    "\n",
    "Here are the steps to install FSLeyes for this tutorial:\n",
    "* Download and install miniconda (https://docs.conda.io/en/latest/miniconda.html)\n",
    "\n",
    "* In your terminal create a new environment:\n",
    "\n",
    "`$ conda create -n fsleyes_tutorial python=3.7`\n",
    "\n",
    "* When the environment is installed, activate it:\n",
    "\n",
    "`$ conda activate fsleyes_tutorial`\n",
    "\n",
    "\n",
    "* Install the FSLeyes Python package to the new environment:\n",
    "\n",
    "`$ conda install -c conda-forge fsleyes`\n",
    "\n",
    "\n",
    "* Check that the path to FSLeyes is inside your environment\n",
    "\n",
    "`$ which fsleyes`\n",
    "\n",
    "\n",
    "# Start tutorial\n",
    "\n",
    "If you haven't done so already, load the fsleyes_tutorial conda environment (see above)\n",
    "Then navigate to the retreat folder:\n",
    "\n",
    "`cd ~/myPath/tutorial`\n",
    "\n",
    "Launch the tutorial notebook together with FSLeyes: \n",
    "\n",
    "`fsleyes --notebookFile scripts/fsleyes_tutorial.ipynb`"
   ]
  },
  {
   "cell_type": "markdown",
   "metadata": {},
   "source": [
    "# Basic example\n",
    "As a first example to see how the interactive mode is working, we will load the human standard MNI brain using the command below. You might notice that you don't need to import the 'load' function, because the some useful packages are already impored when FSLeyes is launched. You might also notice that that the variable `FSLDIR` is acessible within FSLeyes, but only if it was defined within the terminal session, where we launched FSLeyes. "
   ]
  },
  {
   "cell_type": "code",
   "execution_count": null,
   "metadata": {},
   "outputs": [],
   "source": [
    "import os\n",
    "load(os.path.expandvars('$FSLDIR/data/standard/MNI152_T1_2mm'))"
   ]
  },
  {
   "cell_type": "markdown",
   "metadata": {},
   "source": [
    "All files that we load are stored automatically in a list called `overlayList`, which holds all the Image objects. We can access the first element, which is the MNI brain, using regular indexing:"
   ]
  },
  {
   "cell_type": "code",
   "execution_count": null,
   "metadata": {},
   "outputs": [],
   "source": [
    "# first element of list:\n",
    "overlayList[0]"
   ]
  },
  {
   "cell_type": "markdown",
   "metadata": {},
   "source": [
    "As a simple manipulation we can change the colour map from greyscale to `Render3`. Note that the default colour maps are directly accessible in this way, but we will other custom colour maps can be included (see more below)."
   ]
  },
  {
   "cell_type": "code",
   "execution_count": null,
   "metadata": {},
   "outputs": [],
   "source": [
    "displayCtx.getOpts(overlayList[0]).cmap = 'Render3'"
   ]
  },
  {
   "cell_type": "markdown",
   "metadata": {},
   "source": [
    "We can remove this file again, because we don't need it for now:"
   ]
  },
  {
   "cell_type": "code",
   "execution_count": null,
   "metadata": {},
   "outputs": [],
   "source": [
    "overlayList.remove(overlayList[0])"
   ]
  },
  {
   "cell_type": "markdown",
   "metadata": {},
   "source": [
    "# Goal for this session\n",
    "The goal of this session is to have a script that automatically creates the display of a structural brain scan together with tractography results from two tracts. The cursor will be centered on the voxel of maximal probability of one tract. The script will contain one variable to define, which subject group we want to display (for example controls, patient group 1, patient group 2, etc. Changing this variable change all the settings adaptively so that a comparable display is created."
   ]
  },
  {
   "cell_type": "markdown",
   "metadata": {},
   "source": [
    "# Input files and settings\n",
    "We need to provide the filenames of interest in an organized way, where Pandas data frames can be handy.\n",
    "In the tutorial example the filenames have very convenient names, and are organized in a neat way, which will most likely not be the case in a real-life example"
   ]
  },
  {
   "cell_type": "code",
   "execution_count": null,
   "metadata": {},
   "outputs": [],
   "source": [
    "import pandas as pd\n",
    "\n",
    "# folder where data is stored\n",
    "mydir = os.path.join('mypath', 'tutorial', 'data')\n",
    "\n",
    "# filenames\n",
    "df = pd.DataFrame(columns=['subject_group', 'structural', 'CST', 'MDLF'])\n",
    "df.loc[len(df)] = ['control', 'structural', 'cst', 'mdlf']\n",
    "df.loc[len(df)] = ['patient-group1', 'structural', 'cst', 'mdlf']\n",
    "df.loc[len(df)] = ['patient-group2', 'structural', 'cst', 'mdlf']\n"
   ]
  },
  {
   "cell_type": "markdown",
   "metadata": {},
   "source": [
    "Here we define the variable for 'subject-group':"
   ]
  },
  {
   "cell_type": "code",
   "execution_count": null,
   "metadata": {},
   "outputs": [],
   "source": [
    "subject_group = 'control'"
   ]
  },
  {
   "cell_type": "markdown",
   "metadata": {},
   "source": [
    "In the following lines we define two different colours for the two tracts that we will display. We will later access the correct colour based on the index of the tract. In a similar way, we could define settings that differ for the three subject groups. "
   ]
  },
  {
   "cell_type": "code",
   "execution_count": null,
   "metadata": {},
   "outputs": [],
   "source": [
    "# colour for the two tracts\n",
    "my_colours = np.array([[0.  , 0.6 , 1.  ], # blue\n",
    "                       [1.  , 0.33, 0.68]]) # pink\n",
    "\n"
   ]
  },
  {
   "cell_type": "markdown",
   "metadata": {},
   "source": [
    "The tractography results that we load have been normalized with intensities franging from 0 to 1. Therefore, we can apply a comparable threshold of 0.2 to both tracts. In a different situation we might want to have this setting variable depending on tract type or subject group."
   ]
  },
  {
   "cell_type": "code",
   "execution_count": null,
   "metadata": {},
   "outputs": [],
   "source": [
    "# display range for thresholding the tracts\n",
    "display_range = (0.2, 1)"
   ]
  },
  {
   "cell_type": "markdown",
   "metadata": {},
   "source": [
    "# Generate Display"
   ]
  },
  {
   "cell_type": "code",
   "execution_count": null,
   "metadata": {},
   "outputs": [],
   "source": [
    "# import package for colour map (should be at top of script)\n",
    "from matplotlib.colors import LinearSegmentedColormap\n",
    "\n",
    "# make sure all previous overlays are removed\n",
    "overlayList.clear()\n",
    "\n",
    "# load structural \n",
    "structural_fname = f'{df[df.subject_group == subject_group].structural.values[0]}.nii.gz'\n",
    "load(os.path.join(os.sep, mydir, structural_fname))\n",
    "\n",
    "# load tractograms \n",
    "\n",
    "# loop over hemispheres\n",
    "for hemi in ['l', 'r']:\n",
    "    for i_t, tract in enumerate(['CST', 'MDLF']):\n",
    "        tract_fname = os.path.join(os.sep, mydir, f'{df[df.subject_group == subject_group][tract].values[0]}_{hemi}.nii.gz')\n",
    "        load(os.path.join(os.sep, mydir, tract_fname))\n",
    "        \n",
    "        # set display range and clipping range\n",
    "        displayCtx.getOpts(overlayList[-1]).clippingRange = display_range\n",
    "        displayCtx.getOpts(overlayList[-1]).displayRange = display_range\n",
    "        \n",
    "        # set colour map specific for tract type\n",
    "        # use a colour map where luminance linearly increases from black to white\n",
    "        displayCtx.getOpts(overlayList[-1]).cmap = LinearSegmentedColormap.from_list('mycmap', ['black', my_colours[i_t], 'white'])\n",
    "\n",
    "        # determine max voxel for MDLF tractogram in left hemisphere\n",
    "        if (hemi == 'l') & (tract == 'MDLF'):\n",
    "            max_voxel = np.unravel_index(np.argmax(overlayList[-1].data, axis=None), overlayList[-1].data.shape)\n",
    "\n",
    "# place cross hair on maximal voxel for MDLF_L\n",
    "displayCtx = frame.viewPanels[0].displayCtx\n",
    "displayCtx.location = displayCtx.getOpts(overlayList[-1]).transformCoords(max_voxel, 'voxel', 'display')"
   ]
  },
  {
   "cell_type": "markdown",
   "metadata": {},
   "source": [
    "# Importing Atlases\n",
    "It is possible to include custom atlases to FSLeyes and they will be included in the Atlas panel in the GUI. \n",
    "Note that any custom atlas files must be described by an XML specification file as outlined [here](https://users.fmrib.ox.ac.uk/~paulmc/fsleyes/userdoc/latest/customising.html#atlases).\n",
    "\n",
    "It's just a single line of code:"
   ]
  },
  {
   "cell_type": "code",
   "execution_count": null,
   "metadata": {
    "pycharm": {
     "name": "#%%\n"
    }
   },
   "outputs": [],
   "source": [
    "import fsl\n",
    "fsl.data.atlases.addAtlas('/myPath/tutorial/myatlas.xml')"
   ]
  }
 ],
 "metadata": {
  "kernelspec": {
   "display_name": "Python 3",
   "language": "python",
   "name": "python3"
  },
  "language_info": {
   "codemirror_mode": {
    "name": "ipython",
    "version": 3
   },
   "file_extension": ".py",
   "mimetype": "text/x-python",
   "name": "python",
   "nbconvert_exporter": "python",
   "pygments_lexer": "ipython3",
   "version": "3.7.4"
  },
  "pycharm": {
   "stem_cell": {
    "cell_type": "raw",
    "metadata": {
     "collapsed": false
    },
    "source": []
   }
  }
 },
 "nbformat": 4,
 "nbformat_minor": 4
}
